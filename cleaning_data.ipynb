{
 "cells": [
  {
   "cell_type": "markdown",
   "metadata": {},
   "source": [
    "# **Limpeza dos Dados**"
   ]
  },
  {
   "cell_type": "markdown",
   "metadata": {},
   "source": [
    "- Os dados brutos estão gravados no banco SQL.\n",
    "- Eles estavam em arquivos .xlsx, mas em inspeção visual constatei que eles pareciam dados csv (separados por vírgulas).\n",
    "- No entanto, há muitas ocorrências com mais separadores (vírgulas) que o número de colunas do dataset."
   ]
  },
  {
   "cell_type": "markdown",
   "metadata": {},
   "source": [
    "## Imports"
   ]
  },
  {
   "cell_type": "code",
   "execution_count": 7,
   "metadata": {},
   "outputs": [],
   "source": [
    "import pandas as pd\n",
    "import sqlite3"
   ]
  },
  {
   "cell_type": "markdown",
   "metadata": {},
   "source": [
    "## Lendo os dados do banco SQL"
   ]
  },
  {
   "cell_type": "code",
   "execution_count": 8,
   "metadata": {},
   "outputs": [],
   "source": [
    "# Conectar ao banco de dados SQLite\n",
    "conn = sqlite3.connect('data/house_prices.db')\n",
    "\n",
    "# Ler os dados das tabelas em DataFrames\n",
    "df_train = pd.read_sql_query('SELECT * FROM train', conn)\n",
    "df_test = pd.read_sql_query('SELECT * FROM test', conn)\n",
    "\n",
    "# Fechar a conexão com o banco de dados\n",
    "conn.close()"
   ]
  },
  {
   "cell_type": "markdown",
   "metadata": {},
   "source": [
    "## Formatando os dados em um DataFrame"
   ]
  },
  {
   "cell_type": "code",
   "execution_count": 18,
   "metadata": {},
   "outputs": [
    {
     "data": {
      "text/html": [
       "<div>\n",
       "<style scoped>\n",
       "    .dataframe tbody tr th:only-of-type {\n",
       "        vertical-align: middle;\n",
       "    }\n",
       "\n",
       "    .dataframe tbody tr th {\n",
       "        vertical-align: top;\n",
       "    }\n",
       "\n",
       "    .dataframe thead th {\n",
       "        text-align: right;\n",
       "    }\n",
       "</style>\n",
       "<table border=\"1\" class=\"dataframe\">\n",
       "  <thead>\n",
       "    <tr style=\"text-align: right;\">\n",
       "      <th></th>\n",
       "      <th>Type</th>\n",
       "      <th>Region</th>\n",
       "      <th>MunicipalityCode</th>\n",
       "      <th>Prefecture</th>\n",
       "      <th>Municipality</th>\n",
       "      <th>DistrictName</th>\n",
       "      <th>NearestStation</th>\n",
       "      <th>TimeToNearestStation</th>\n",
       "      <th>MinTimeToNearestStation</th>\n",
       "      <th>MaxTimeToNearestStation</th>\n",
       "      <th>...</th>\n",
       "      <th>Breadth</th>\n",
       "      <th>CityPlanning</th>\n",
       "      <th>CoverageRatio</th>\n",
       "      <th>FloorAreaRatio</th>\n",
       "      <th>Period</th>\n",
       "      <th>Year</th>\n",
       "      <th>Quarter</th>\n",
       "      <th>Renovation</th>\n",
       "      <th>Remarks</th>\n",
       "      <th>TradePrice</th>\n",
       "    </tr>\n",
       "  </thead>\n",
       "  <tbody>\n",
       "    <tr>\n",
       "      <th>221963</th>\n",
       "      <td>Residential Land(Land and Building)</td>\n",
       "      <td>Residential Area</td>\n",
       "      <td>13223</td>\n",
       "      <td>Tokyo</td>\n",
       "      <td>Musashimurayama City</td>\n",
       "      <td>Ominami</td>\n",
       "      <td>Musashisunagawa</td>\n",
       "      <td>19</td>\n",
       "      <td>19.0</td>\n",
       "      <td>19.0</td>\n",
       "      <td>...</td>\n",
       "      <td>5.0</td>\n",
       "      <td>Category I Exclusively Low-story Residential Zone</td>\n",
       "      <td>40.0</td>\n",
       "      <td>80.0</td>\n",
       "      <td>3rd quarter 2019</td>\n",
       "      <td>2019</td>\n",
       "      <td>3</td>\n",
       "      <td></td>\n",
       "      <td></td>\n",
       "      <td>29000000</td>\n",
       "    </tr>\n",
       "  </tbody>\n",
       "</table>\n",
       "<p>1 rows × 37 columns</p>\n",
       "</div>"
      ],
      "text/plain": [
       "                                       Type            Region  \\\n",
       "221963  Residential Land(Land and Building)  Residential Area   \n",
       "\n",
       "       MunicipalityCode Prefecture          Municipality DistrictName  \\\n",
       "221963            13223      Tokyo  Musashimurayama City      Ominami   \n",
       "\n",
       "         NearestStation TimeToNearestStation MinTimeToNearestStation  \\\n",
       "221963  Musashisunagawa                   19                    19.0   \n",
       "\n",
       "       MaxTimeToNearestStation  ... Breadth  \\\n",
       "221963                    19.0  ...     5.0   \n",
       "\n",
       "                                             CityPlanning CoverageRatio  \\\n",
       "221963  Category I Exclusively Low-story Residential Zone          40.0   \n",
       "\n",
       "       FloorAreaRatio            Period  Year Quarter Renovation Remarks  \\\n",
       "221963           80.0  3rd quarter 2019  2019       3                      \n",
       "\n",
       "       TradePrice  \n",
       "221963   29000000  \n",
       "\n",
       "[1 rows x 37 columns]"
      ]
     },
     "execution_count": 18,
     "metadata": {},
     "output_type": "execute_result"
    }
   ],
   "source": [
    "df_train.sample()"
   ]
  },
  {
   "cell_type": "code",
   "execution_count": 17,
   "metadata": {},
   "outputs": [
    {
     "name": "stdout",
     "output_type": "stream",
     "text": [
      "<class 'pandas.core.frame.DataFrame'>\n",
      "RangeIndex: 325260 entries, 0 to 325259\n",
      "Data columns (total 37 columns):\n",
      " #   Column                       Non-Null Count   Dtype \n",
      "---  ------                       --------------   ----- \n",
      " 0   Type                         325260 non-null  object\n",
      " 1   Region                       325260 non-null  object\n",
      " 2   MunicipalityCode             325260 non-null  object\n",
      " 3   Prefecture                   325260 non-null  object\n",
      " 4   Municipality                 325260 non-null  object\n",
      " 5   DistrictName                 325260 non-null  object\n",
      " 6   NearestStation               325260 non-null  object\n",
      " 7   TimeToNearestStation         325260 non-null  object\n",
      " 8   MinTimeToNearestStation      325260 non-null  object\n",
      " 9   MaxTimeToNearestStation      325260 non-null  object\n",
      " 10  FloorPlan                    325260 non-null  object\n",
      " 11  Area                         325260 non-null  object\n",
      " 12  AreaIsGreaterFlag            325260 non-null  object\n",
      " 13  UnitPrice                    325260 non-null  object\n",
      " 14  PricePerTsubo                325260 non-null  object\n",
      " 15  LandShape                    325260 non-null  object\n",
      " 16  Frontage                     325260 non-null  object\n",
      " 17  FrontageIsGreaterFlag        325260 non-null  object\n",
      " 18  TotalFloorArea               325260 non-null  object\n",
      " 19  TotalFloorAreaIsGreaterFlag  325260 non-null  object\n",
      " 20  BuildingYear                 325260 non-null  object\n",
      " 21  PrewarBuilding               325260 non-null  object\n",
      " 22  Structure                    325260 non-null  object\n",
      " 23  Use                          325260 non-null  object\n",
      " 24  Purpose                      325260 non-null  object\n",
      " 25  Direction                    325260 non-null  object\n",
      " 26  Classification               325260 non-null  object\n",
      " 27  Breadth                      325260 non-null  object\n",
      " 28  CityPlanning                 325260 non-null  object\n",
      " 29  CoverageRatio                325260 non-null  object\n",
      " 30  FloorAreaRatio               325260 non-null  object\n",
      " 31  Period                       325260 non-null  object\n",
      " 32  Year                         325260 non-null  object\n",
      " 33  Quarter                      325260 non-null  object\n",
      " 34  Renovation                   325260 non-null  object\n",
      " 35  Remarks                      325260 non-null  object\n",
      " 36  TradePrice                   325260 non-null  object\n",
      "dtypes: object(37)\n",
      "memory usage: 91.8+ MB\n"
     ]
    }
   ],
   "source": [
    "df_train.info()"
   ]
  }
 ],
 "metadata": {
  "kernelspec": {
   "display_name": "forecasting_env",
   "language": "python",
   "name": "python3"
  },
  "language_info": {
   "codemirror_mode": {
    "name": "ipython",
    "version": 3
   },
   "file_extension": ".py",
   "mimetype": "text/x-python",
   "name": "python",
   "nbconvert_exporter": "python",
   "pygments_lexer": "ipython3",
   "version": "3.12.4"
  }
 },
 "nbformat": 4,
 "nbformat_minor": 2
}
