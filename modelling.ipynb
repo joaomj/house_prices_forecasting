{
 "cells": [
  {
   "cell_type": "markdown",
   "metadata": {},
   "source": [
    "# Bibliotecas"
   ]
  },
  {
   "cell_type": "code",
   "execution_count": 1,
   "metadata": {},
   "outputs": [],
   "source": [
    "import pandas as pd\n",
    "import matplotlib.pyplot as plt\n",
    "import seaborn as sns\n",
    "import sqlite3\n",
    "import numpy as np\n",
    "\n",
    "\n",
    "from sklearn.linear_model import LinearRegression\n",
    "from sklearn.compose import ColumnTransformer\n",
    "from sklearn.pipeline import Pipeline\n",
    "from sklearn.preprocessing import StandardScaler, FunctionTransformer\n",
    "from category_encoders import BinaryEncoder, CountEncoder\n",
    "from sklearn.impute import SimpleImputer\n",
    "from sklearn.linear_model import LinearRegression\n",
    "from sklearn.metrics import mean_squared_error, mean_absolute_percentage_error, r2_score"
   ]
  },
  {
   "cell_type": "markdown",
   "metadata": {},
   "source": [
    "# Funções "
   ]
  },
  {
   "cell_type": "code",
   "execution_count": null,
   "metadata": {},
   "outputs": [],
   "source": []
  },
  {
   "cell_type": "markdown",
   "metadata": {},
   "source": [
    "# Carregando dados"
   ]
  },
  {
   "cell_type": "code",
   "execution_count": 42,
   "metadata": {},
   "outputs": [],
   "source": [
    "df = pd.read_csv('data/train_cleaned.csv')"
   ]
  },
  {
   "cell_type": "markdown",
   "metadata": {},
   "source": [
    "# Modelagem"
   ]
  },
  {
   "cell_type": "markdown",
   "metadata": {},
   "source": [
    "## Regressão Linear"
   ]
  },
  {
   "cell_type": "markdown",
   "metadata": {},
   "source": [
    "### Preparar dataset"
   ]
  },
  {
   "cell_type": "code",
   "execution_count": 47,
   "metadata": {},
   "outputs": [],
   "source": [
    "# Definir as colunas categóricas e numéricas\n",
    "categorical_cols_binary = ['NearestStation', 'Use']\n",
    "categorical_cols_frequency = ['Type', 'Region', 'LandShape', 'Structure', 'Direction', 'Classification', 'CityPlanning']\n",
    "numeric_cols = df.select_dtypes(include=['number']).columns.tolist()\n",
    "numeric_cols.remove('TradePrice_log') # remove o target para ele não ser processado no pipeline"
   ]
  },
  {
   "cell_type": "code",
   "execution_count": 49,
   "metadata": {},
   "outputs": [],
   "source": [
    "# Separar características e alvo\n",
    "X = df.drop(columns=['TradePrice_log'])\n",
    "y = df['TradePrice_log']\n",
    "\n",
    "# Dividir os dados em treino e teste\n",
    "X_train, X_test, y_train, y_test = train_test_split(X, y, test_size=0.2, random_state=42)"
   ]
  },
  {
   "cell_type": "markdown",
   "metadata": {},
   "source": [
    "### Criar pipeline\n",
    "Pré-processamento e modelo de RL."
   ]
  },
  {
   "cell_type": "markdown",
   "metadata": {},
   "source": [
    "Encoding das categóricas:\n",
    "- NearestStation, Use = Binary Encoding ou Frequency Encoding\n",
    "- Outras: Frequency Encoding"
   ]
  },
  {
   "cell_type": "code",
   "execution_count": 50,
   "metadata": {},
   "outputs": [],
   "source": [
    "# Criar o ColumnTransformer\n",
    "preprocessor = ColumnTransformer(\n",
    "    transformers=[\n",
    "        ('num', Pipeline(steps=[\n",
    "            ('imputer', SimpleImputer(strategy='mean')),  # Imputa valores faltantes\n",
    "            ('scaler', StandardScaler())                # Normaliza os dados\n",
    "        ]), numeric_cols),\n",
    "        \n",
    "        ('binary', BinaryEncoder(cols=categorical_cols_binary), categorical_cols_binary),\n",
    "        \n",
    "        ('freq', CountEncoder(), categorical_cols_frequency)\n",
    "    ],\n",
    "    remainder='passthrough'  # Inclui todas as outras colunas que não estão listadas acima\n",
    ")"
   ]
  },
  {
   "cell_type": "code",
   "execution_count": 51,
   "metadata": {},
   "outputs": [],
   "source": [
    "# Criar o pipeline completo com o preprocessor e o modelo\n",
    "pipeline = Pipeline(steps=[\n",
    "    ('preprocessor', preprocessor),\n",
    "    ('regressor', LinearRegression())  # Modelo de Regressão Linear\n",
    "])\n"
   ]
  },
  {
   "cell_type": "markdown",
   "metadata": {},
   "source": [
    "### Treinar Modelo e fazer previsões"
   ]
  },
  {
   "cell_type": "code",
   "execution_count": 52,
   "metadata": {},
   "outputs": [],
   "source": [
    "# Ajustar o pipeline aos dados de treino\n",
    "pipeline.fit(X_train, y_train)\n",
    "\n",
    "# Fazer previsões nos dados de teste\n",
    "y_pred = pipeline.predict(X_test)"
   ]
  },
  {
   "cell_type": "markdown",
   "metadata": {},
   "source": [
    "### Avaliar modelo"
   ]
  },
  {
   "cell_type": "code",
   "execution_count": 53,
   "metadata": {},
   "outputs": [
    {
     "name": "stdout",
     "output_type": "stream",
     "text": [
      "               Model   RMLSE    MAPE     R2\n",
      "0  Linear Regression  0.0304  0.0232  0.424\n"
     ]
    }
   ],
   "source": [
    "# Calcular RMLSE\n",
    "rmlse = (mean_squared_log_error(y_test, y_pred))**0.5\n",
    "\n",
    "# Calcular MAPE\n",
    "mape = mean_absolute_percentage_error(y_test, y_pred)\n",
    "\n",
    "# Calcular R^2\n",
    "r2 = r2_score(y_test, y_pred)\n",
    "\n",
    "# Criar um DataFrame para armazenar as métricas\n",
    "metrics_df = pd.DataFrame({\n",
    "    'Model': ['Linear Regression'],\n",
    "    'RMLSE': [rmlse],\n",
    "    'MAPE': [mape],\n",
    "    'R2': [r2]\n",
    "})\n",
    "\n",
    "print(metrics_df.round(4))\n"
   ]
  }
 ],
 "metadata": {
  "kernelspec": {
   "display_name": "forecasting_env",
   "language": "python",
   "name": "python3"
  },
  "language_info": {
   "codemirror_mode": {
    "name": "ipython",
    "version": 3
   },
   "file_extension": ".py",
   "mimetype": "text/x-python",
   "name": "python",
   "nbconvert_exporter": "python",
   "pygments_lexer": "ipython3",
   "version": "3.12.4"
  }
 },
 "nbformat": 4,
 "nbformat_minor": 2
}
