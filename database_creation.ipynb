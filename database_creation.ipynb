{
 "cells": [
  {
   "cell_type": "markdown",
   "metadata": {},
   "source": [
    "# **Criando o Banco de Dados**"
   ]
  },
  {
   "cell_type": "markdown",
   "metadata": {},
   "source": [
    "Notebook com os comandos necessários para criar um banco SQL no SQLite e carregar os dados dos arquivos fornecidos nele.\n",
    "\n",
    "**Arquivos fornecidos:**\n",
    "- *train_houses.xlsx*\n",
    "- *test_houses.xlsx*"
   ]
  },
  {
   "cell_type": "markdown",
   "metadata": {},
   "source": [
    "## Imports"
   ]
  },
  {
   "cell_type": "code",
   "execution_count": 4,
   "metadata": {},
   "outputs": [],
   "source": [
    "import pandas as pd\n",
    "import sqlite3"
   ]
  },
  {
   "cell_type": "code",
   "execution_count": 3,
   "metadata": {},
   "outputs": [],
   "source": [
    "# Passo 1: Ler os arquivos XLSX\n",
    "train_file = 'data/train_houses.xlsx'\n",
    "test_file = 'data/test_houses.xlsx'\n",
    "\n",
    "# Carregar os dados dos arquivos XLSX em DataFrames\n",
    "df_train = pd.read_excel(train_file)\n",
    "df_test = pd.read_excel(test_file)"
   ]
  },
  {
   "cell_type": "code",
   "execution_count": 6,
   "metadata": {},
   "outputs": [],
   "source": [
    "# Passo 2: Conectar ao banco de dados SQLite (ou criar se não existir)\n",
    "conn = sqlite3.connect('data/house_prices.db')"
   ]
  },
  {
   "cell_type": "code",
   "execution_count": 7,
   "metadata": {},
   "outputs": [
    {
     "data": {
      "text/plain": [
       "81314"
      ]
     },
     "execution_count": 7,
     "metadata": {},
     "output_type": "execute_result"
    }
   ],
   "source": [
    "# Passo 3: Criar as tabelas e carregar os dados\n",
    "df_train.to_sql('train', conn, if_exists='replace', index=False)\n",
    "df_test.to_sql('test', conn, if_exists='replace', index=False)"
   ]
  },
  {
   "cell_type": "code",
   "execution_count": 8,
   "metadata": {},
   "outputs": [
    {
     "name": "stdout",
     "output_type": "stream",
     "text": [
      "Dados carregados com sucesso no banco de dados SQLite.\n"
     ]
    }
   ],
   "source": [
    "# Fechar a conexão com o banco de dados\n",
    "conn.close()\n",
    "\n",
    "print(\"Dados carregados com sucesso no banco de dados SQLite.\")"
   ]
  }
 ],
 "metadata": {
  "kernelspec": {
   "display_name": "forecasting_env",
   "language": "python",
   "name": "python3"
  },
  "language_info": {
   "codemirror_mode": {
    "name": "ipython",
    "version": 3
   },
   "file_extension": ".py",
   "mimetype": "text/x-python",
   "name": "python",
   "nbconvert_exporter": "python",
   "pygments_lexer": "ipython3",
   "version": "3.12.4"
  }
 },
 "nbformat": 4,
 "nbformat_minor": 2
}
