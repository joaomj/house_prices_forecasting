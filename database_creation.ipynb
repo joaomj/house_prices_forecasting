{
 "cells": [
  {
   "cell_type": "markdown",
   "metadata": {},
   "source": [
    "# **Criando o Banco de Dados**"
   ]
  },
  {
   "cell_type": "markdown",
   "metadata": {},
   "source": [
    "Notebook com os comandos necessários para criar um banco SQL no SQLite e carregar os dados dos arquivos fornecidos nele.\n",
    "\n",
    "**Arquivos fornecidos:**\n",
    "- *train_houses.xlsx*\n",
    "- *test_houses.xlsx*"
   ]
  },
  {
   "cell_type": "markdown",
   "metadata": {},
   "source": [
    "## Imports"
   ]
  },
  {
   "cell_type": "code",
   "execution_count": 1,
   "metadata": {},
   "outputs": [],
   "source": [
    "import pandas as pd\n",
    "import sqlite3"
   ]
  },
  {
   "cell_type": "markdown",
   "metadata": {},
   "source": [
    "## Criando conexão ao banco SQL"
   ]
  },
  {
   "cell_type": "code",
   "execution_count": 3,
   "metadata": {},
   "outputs": [],
   "source": [
    "# Conectar ao banco de dados SQLite (ou criar se não existir)\n",
    "conn = sqlite3.connect('data/house_prices.db')"
   ]
  },
  {
   "cell_type": "markdown",
   "metadata": {},
   "source": [
    "## Corrigindo formatação dos dados brutos"
   ]
  },
  {
   "cell_type": "markdown",
   "metadata": {},
   "source": [
    "- Os dados brutos estavam em arquivos xlsx.\n",
    "- Mas em inspeção visual, eles eram dados separados por vírgulas, como um csv.\n",
    "- Por algum motivo, ler o XLSX no Pandas e depois gravar em CSV não estava funcionando. O Pandas não reconhecia o delimitador ','.\n",
    "- Por isso, eu abri os arquivos XLSX no Excel;\n",
    "- em seguida, eu **localizei e substituí** todas as ocorrências de ', ' (vírgula seguida de espaço), que era o causador da confusão com o Pandas.\n",
    "- Por fim, **salvei como** CSV UTF-8 esse arquivo XLSX.\n",
    "- Agora é só ler o arquivo CSV pelo Pandas e gravá-lo no banco SQL. "
   ]
  },
  {
   "cell_type": "code",
   "execution_count": 60,
   "metadata": {},
   "outputs": [
    {
     "data": {
      "text/html": [
       "<div>\n",
       "<style scoped>\n",
       "    .dataframe tbody tr th:only-of-type {\n",
       "        vertical-align: middle;\n",
       "    }\n",
       "\n",
       "    .dataframe tbody tr th {\n",
       "        vertical-align: top;\n",
       "    }\n",
       "\n",
       "    .dataframe thead th {\n",
       "        text-align: right;\n",
       "    }\n",
       "</style>\n",
       "<table border=\"1\" class=\"dataframe\">\n",
       "  <thead>\n",
       "    <tr style=\"text-align: right;\">\n",
       "      <th></th>\n",
       "      <th>Type</th>\n",
       "      <th>Region</th>\n",
       "      <th>MunicipalityCode</th>\n",
       "      <th>Prefecture</th>\n",
       "      <th>Municipality</th>\n",
       "      <th>DistrictName</th>\n",
       "      <th>NearestStation</th>\n",
       "      <th>TimeToNearestStation</th>\n",
       "      <th>MinTimeToNearestStation</th>\n",
       "      <th>MaxTimeToNearestStation</th>\n",
       "      <th>...</th>\n",
       "      <th>Breadth</th>\n",
       "      <th>CityPlanning</th>\n",
       "      <th>CoverageRatio</th>\n",
       "      <th>FloorAreaRatio</th>\n",
       "      <th>Period</th>\n",
       "      <th>Year</th>\n",
       "      <th>Quarter</th>\n",
       "      <th>Renovation</th>\n",
       "      <th>Remarks</th>\n",
       "      <th>TradePrice</th>\n",
       "    </tr>\n",
       "  </thead>\n",
       "  <tbody>\n",
       "    <tr>\n",
       "      <th>0</th>\n",
       "      <td>Pre-owned Condominiums etc.</td>\n",
       "      <td>NaN</td>\n",
       "      <td>13103.0</td>\n",
       "      <td>Tokyo</td>\n",
       "      <td>Minato Ward</td>\n",
       "      <td>Kaigan</td>\n",
       "      <td>Takeshiba</td>\n",
       "      <td>1</td>\n",
       "      <td>1.0</td>\n",
       "      <td>1.0</td>\n",
       "      <td>...</td>\n",
       "      <td>NaN</td>\n",
       "      <td>Quasi-industrial Zone</td>\n",
       "      <td>60.0</td>\n",
       "      <td>400.0</td>\n",
       "      <td>1st quarter 2011</td>\n",
       "      <td>2011.0</td>\n",
       "      <td>1.0</td>\n",
       "      <td>Done</td>\n",
       "      <td>NaN</td>\n",
       "      <td>24000000.0</td>\n",
       "    </tr>\n",
       "    <tr>\n",
       "      <th>1</th>\n",
       "      <td>Residential Land(Land and Building)</td>\n",
       "      <td>Residential Area</td>\n",
       "      <td>13120.0</td>\n",
       "      <td>Tokyo</td>\n",
       "      <td>Nerima Ward</td>\n",
       "      <td>Nishiki</td>\n",
       "      <td>Kamiitabashi</td>\n",
       "      <td>15</td>\n",
       "      <td>15.0</td>\n",
       "      <td>15.0</td>\n",
       "      <td>...</td>\n",
       "      <td>4.0</td>\n",
       "      <td>Category I Exclusively Low-story Residential Zone</td>\n",
       "      <td>60.0</td>\n",
       "      <td>200.0</td>\n",
       "      <td>3rd quarter 2013</td>\n",
       "      <td>2013.0</td>\n",
       "      <td>3.0</td>\n",
       "      <td>NaN</td>\n",
       "      <td>Dealings including private road</td>\n",
       "      <td>51000000.0</td>\n",
       "    </tr>\n",
       "    <tr>\n",
       "      <th>2</th>\n",
       "      <td>Residential Land(Land Only)</td>\n",
       "      <td>Residential Area</td>\n",
       "      <td>13201.0</td>\n",
       "      <td>Tokyo</td>\n",
       "      <td>Hachioji City</td>\n",
       "      <td>Shimoongatamachi</td>\n",
       "      <td>Takao (Tokyo)</td>\n",
       "      <td>1H-1H30</td>\n",
       "      <td>60.0</td>\n",
       "      <td>90.0</td>\n",
       "      <td>...</td>\n",
       "      <td>4.5</td>\n",
       "      <td>Category I Exclusively Low-story Residential Zone</td>\n",
       "      <td>40.0</td>\n",
       "      <td>80.0</td>\n",
       "      <td>4th quarter 2007</td>\n",
       "      <td>2007.0</td>\n",
       "      <td>4.0</td>\n",
       "      <td>NaN</td>\n",
       "      <td>NaN</td>\n",
       "      <td>14000000.0</td>\n",
       "    </tr>\n",
       "    <tr>\n",
       "      <th>3</th>\n",
       "      <td>Pre-owned Condominiums etc.</td>\n",
       "      <td>NaN</td>\n",
       "      <td>13208.0</td>\n",
       "      <td>Tokyo</td>\n",
       "      <td>Chofu City</td>\n",
       "      <td>Kamiishiwara</td>\n",
       "      <td>Nishichofu</td>\n",
       "      <td>16</td>\n",
       "      <td>16.0</td>\n",
       "      <td>16.0</td>\n",
       "      <td>...</td>\n",
       "      <td>NaN</td>\n",
       "      <td>Quasi-industrial Zone</td>\n",
       "      <td>60.0</td>\n",
       "      <td>200.0</td>\n",
       "      <td>2nd quarter 2015</td>\n",
       "      <td>2015.0</td>\n",
       "      <td>2.0</td>\n",
       "      <td>Not yet</td>\n",
       "      <td>NaN</td>\n",
       "      <td>23000000.0</td>\n",
       "    </tr>\n",
       "    <tr>\n",
       "      <th>4</th>\n",
       "      <td>Residential Land(Land Only)</td>\n",
       "      <td>Residential Area</td>\n",
       "      <td>13117.0</td>\n",
       "      <td>Tokyo</td>\n",
       "      <td>Kita Ward</td>\n",
       "      <td>Shimo</td>\n",
       "      <td>Shimo</td>\n",
       "      <td>6</td>\n",
       "      <td>6.0</td>\n",
       "      <td>6.0</td>\n",
       "      <td>...</td>\n",
       "      <td>4.5</td>\n",
       "      <td>Category I Exclusively Medium-high Residential...</td>\n",
       "      <td>60.0</td>\n",
       "      <td>200.0</td>\n",
       "      <td>4th quarter 2015</td>\n",
       "      <td>2015.0</td>\n",
       "      <td>4.0</td>\n",
       "      <td>NaN</td>\n",
       "      <td>NaN</td>\n",
       "      <td>33000000.0</td>\n",
       "    </tr>\n",
       "  </tbody>\n",
       "</table>\n",
       "<p>5 rows × 37 columns</p>\n",
       "</div>"
      ],
      "text/plain": [
       "                                  Type            Region  MunicipalityCode  \\\n",
       "0          Pre-owned Condominiums etc.               NaN           13103.0   \n",
       "1  Residential Land(Land and Building)  Residential Area           13120.0   \n",
       "2          Residential Land(Land Only)  Residential Area           13201.0   \n",
       "3          Pre-owned Condominiums etc.               NaN           13208.0   \n",
       "4          Residential Land(Land Only)  Residential Area           13117.0   \n",
       "\n",
       "  Prefecture   Municipality      DistrictName NearestStation  \\\n",
       "0      Tokyo    Minato Ward            Kaigan      Takeshiba   \n",
       "1      Tokyo    Nerima Ward           Nishiki   Kamiitabashi   \n",
       "2      Tokyo  Hachioji City  Shimoongatamachi  Takao (Tokyo)   \n",
       "3      Tokyo     Chofu City      Kamiishiwara     Nishichofu   \n",
       "4      Tokyo      Kita Ward             Shimo          Shimo   \n",
       "\n",
       "  TimeToNearestStation  MinTimeToNearestStation  MaxTimeToNearestStation  ...  \\\n",
       "0                    1                      1.0                      1.0  ...   \n",
       "1                   15                     15.0                     15.0  ...   \n",
       "2              1H-1H30                     60.0                     90.0  ...   \n",
       "3                   16                     16.0                     16.0  ...   \n",
       "4                    6                      6.0                      6.0  ...   \n",
       "\n",
       "  Breadth                                       CityPlanning  CoverageRatio  \\\n",
       "0     NaN                              Quasi-industrial Zone           60.0   \n",
       "1     4.0  Category I Exclusively Low-story Residential Zone           60.0   \n",
       "2     4.5  Category I Exclusively Low-story Residential Zone           40.0   \n",
       "3     NaN                              Quasi-industrial Zone           60.0   \n",
       "4     4.5  Category I Exclusively Medium-high Residential...           60.0   \n",
       "\n",
       "   FloorAreaRatio            Period    Year  Quarter Renovation  \\\n",
       "0           400.0  1st quarter 2011  2011.0      1.0       Done   \n",
       "1           200.0  3rd quarter 2013  2013.0      3.0        NaN   \n",
       "2            80.0  4th quarter 2007  2007.0      4.0        NaN   \n",
       "3           200.0  2nd quarter 2015  2015.0      2.0    Not yet   \n",
       "4           200.0  4th quarter 2015  2015.0      4.0        NaN   \n",
       "\n",
       "                           Remarks  TradePrice  \n",
       "0                              NaN  24000000.0  \n",
       "1  Dealings including private road  51000000.0  \n",
       "2                              NaN  14000000.0  \n",
       "3                              NaN  23000000.0  \n",
       "4                              NaN  33000000.0  \n",
       "\n",
       "[5 rows x 37 columns]"
      ]
     },
     "execution_count": 60,
     "metadata": {},
     "output_type": "execute_result"
    }
   ],
   "source": [
    "# Ler o arquivo CSV corrigido\n",
    "df_train = pd.read_csv('data/train_houses_corrigido.csv', sep=',', encoding='utf-8')\n",
    "\n",
    "df_train.head()"
   ]
  },
  {
   "cell_type": "markdown",
   "metadata": {},
   "source": [
    "## Carregando dados no banco SQL"
   ]
  },
  {
   "cell_type": "code",
   "execution_count": 13,
   "metadata": {},
   "outputs": [],
   "source": [
    "def process_and_save(df, table_name):\n",
    "    # Obter os nomes das colunas\n",
    "    column_names = get_column_names(df)\n",
    "    \n",
    "    # Separar os dados e definir os nomes das colunas\n",
    "    data = df[1:]  # Ignorar a primeira linha que contém os nomes das colunas\n",
    "    data = data[0].str.split(',', expand=True)  # Separar os valores da linha\n",
    "    \n",
    "    # Ajustar o número de colunas se necessário\n",
    "    if len(data.columns) != len(column_names):\n",
    "        print(f\"Warning: Number of columns in data ({len(data.columns)}) does not match the number of column names ({len(column_names)}).\")\n",
    "        min_length = min(len(data.columns), len(column_names)) # Define o tamanho do dataset = número de colunas\n",
    "        data = data.iloc[:, :min_length]  # Truncar ou preencher com NaN se necessário\n",
    "        column_names = column_names[:min_length]  # Ajustar os nomes das colunas\n",
    "    \n",
    "    data.columns = column_names  # Definir os nomes das colunas\n",
    "    \n",
    "    # Salvar no banco de dados\n",
    "    data.to_sql(table_name, conn, if_exists='replace', index=False)"
   ]
  },
  {
   "cell_type": "code",
   "execution_count": 14,
   "metadata": {},
   "outputs": [
    {
     "name": "stdout",
     "output_type": "stream",
     "text": [
      "Warning: Number of columns in data (42) does not match the number of column names (37).\n",
      "Warning: Number of columns in data (41) does not match the number of column names (37).\n"
     ]
    }
   ],
   "source": [
    "# Processar e salvar os DataFrames\n",
    "process_and_save(df_train, 'train')\n",
    "process_and_save(df_test, 'test')"
   ]
  },
  {
   "cell_type": "code",
   "execution_count": 15,
   "metadata": {},
   "outputs": [
    {
     "name": "stdout",
     "output_type": "stream",
     "text": [
      "Dados carregados com sucesso no banco de dados SQLite.\n"
     ]
    }
   ],
   "source": [
    "# Fechar a conexão com o banco de dados\n",
    "conn.close()\n",
    "\n",
    "print(\"Dados carregados com sucesso no banco de dados SQLite.\")"
   ]
  }
 ],
 "metadata": {
  "kernelspec": {
   "display_name": "forecasting_env",
   "language": "python",
   "name": "python3"
  },
  "language_info": {
   "codemirror_mode": {
    "name": "ipython",
    "version": 3
   },
   "file_extension": ".py",
   "mimetype": "text/x-python",
   "name": "python",
   "nbconvert_exporter": "python",
   "pygments_lexer": "ipython3",
   "version": "3.12.4"
  }
 },
 "nbformat": 4,
 "nbformat_minor": 2
}
