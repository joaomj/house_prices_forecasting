{
 "cells": [
  {
   "cell_type": "markdown",
   "metadata": {},
   "source": [
    "# **Criando o Banco de Dados**"
   ]
  },
  {
   "cell_type": "markdown",
   "metadata": {},
   "source": [
    "Notebook com os comandos necessários para criar um banco SQL no SQLite e carregar os dados dos arquivos fornecidos nele.\n",
    "\n",
    "**Arquivos fornecidos:**\n",
    "- *train_houses.xlsx*\n",
    "- *test_houses.xlsx*"
   ]
  },
  {
   "cell_type": "code",
   "execution_count": 14,
   "metadata": {},
   "outputs": [],
   "source": [
    "import pandas as pd\n",
    "from sqlalchemy import create_engine, text"
   ]
  },
  {
   "cell_type": "code",
   "execution_count": 15,
   "metadata": {},
   "outputs": [],
   "source": [
    "# Função para carregar XLSX para o banco de dados\n",
    "def carregar_xlsx_para_sqlite(xlsx_path, sheet_name, table_name):\n",
    "    # Ler o XLSX\n",
    "    df = pd.read_excel(xlsx_path, sheet_name=sheet_name)\n",
    "    \n",
    "    # Carregar dados para o banco de dados\n",
    "    df.to_sql(table_name, engine, if_exists='replace', index=False)\n",
    "    print(f\"Tabela {table_name} criada e dados carregados.\")"
   ]
  },
  {
   "cell_type": "code",
   "execution_count": 16,
   "metadata": {},
   "outputs": [],
   "source": [
    "# Definindo nome do banco\n",
    "db_name = 'data/HousePrices.db'\n",
    "engine = create_engine(f'sqlite:///{db_name}')"
   ]
  },
  {
   "cell_type": "code",
   "execution_count": 17,
   "metadata": {},
   "outputs": [],
   "source": [
    "# Especifique os arquivos XLSX e as tabelas correspondentes\n",
    "arquivos_xlsx = {\n",
    "    'data/train_houses.xlsx': ('in', 'train_houses'),\n",
    "    'data/test_houses.xlsx': ('in', 'test_houses')\n",
    "}"
   ]
  },
  {
   "cell_type": "code",
   "execution_count": 18,
   "metadata": {},
   "outputs": [
    {
     "name": "stdout",
     "output_type": "stream",
     "text": [
      "Tabela train_houses criada e dados carregados.\n",
      "Tabela test_houses criada e dados carregados.\n"
     ]
    }
   ],
   "source": [
    "# Carregar todos os XLSXs para o banco de dados\n",
    "for xlsx_path, (sheet_name, table_name) in arquivos_xlsx.items():\n",
    "    carregar_xlsx_para_sqlite(xlsx_path, sheet_name, table_name)"
   ]
  },
  {
   "cell_type": "code",
   "execution_count": 19,
   "metadata": {},
   "outputs": [
    {
     "name": "stdout",
     "output_type": "stream",
     "text": [
      "Dados da train_houses:\n",
      "('Pre-owned Condominiums, etc.,,13103,Tokyo,Minato Ward,Kaigan,Takeshiba,1,1.0,1.0,1K,35,0,,,,,False,,0,1979.0,0,SRC,House,,,,,Quasi-industrial Zone,60.0,400.0,1st quarter 2011,2011,1,Done,,24000000',)\n",
      "('Residential Land(Land and Building),Residential Area,13120,Tokyo,Nerima Ward,Nishiki,Kamiitabashi,15,15.0,15.0,,110,0,,,Semi-rectangular Shaped,12.0, ... (31 characters truncated) ... ,East,Private Road,4.0,Category I Exclusively Low-story Residential Zone,60.0,200.0,3rd quarter 2013,2013,3,,Dealings including private road,51000000',)\n",
      "('Residential Land(Land Only),Residential Area,13201,Tokyo,Hachioji City,Shimoongatamachi,Takao (Tokyo),1H-1H30,60.0,90.0,,135,0,100000.0,340000.0,Irregular Shaped,10.0,False,,0,,0,,,,East,Private Road,4.5,Category I Exclusively Low-story Residential Zone,40.0,80.0,4th quarter 2007,2007,4,,,14000000',)\n",
      "('Pre-owned Condominiums, etc.,,13208,Tokyo,Chofu City,Kamiishiwara,Nishichofu,16,16.0,16.0,3LDK,60,0,,,,,False,,0,1999.0,0,RC,House,Other,,,,Quasi-industrial Zone,60.0,200.0,2nd quarter 2015,2015,2,Not yet,,23000000',)\n",
      "('Residential Land(Land Only),Residential Area,13117,Tokyo,Kita Ward,Shimo,Shimo,6,6.0,6.0,,60,0,550000.0,1800000.0,Trapezoidal Shaped,8.0,False,,0,,0,,,House,Southwest,Ward Road,4.5,Category I Exclusively Medium-high Residential Zone,60.0,200.0,4th quarter 2015,2015,4,,,33000000',)\n",
      "Dados da test_houses:\n",
      "('Pre-owned Condominiums, etc.,,13103,Tokyo,Minato Ward,Toranomon,Kamiyacho,4,4,4,1K,20,0,,,,,False,,0,2003,0,SRC,House,House,,,,Commercial Zone,80,500,3rd quarter 2016,2016,3,Not yet,,',)\n",
      "('Pre-owned Condominiums, etc.,,13110,Tokyo,Meguro Ward,Higashiyama,Ikejiriohashi,7,7,7,1K,25,0,,,,,False,,0,1998,0,RC,House,,,,,Category I Residential Zone,60,300,3rd quarter 2012,2012,3,,,',)\n",
      "('Pre-owned Condominiums, etc.,,13112,Tokyo,Setagaya Ward,Kitakarasuyama,Chitosekarasuyama,25,25,25,3LDK,80,0,,,,,False,,0,,0,RC,House,House,,,,Category I Exclusively Low-story Residential Zone,50,100,4th quarter 2015,2015,4,Done,,',)\n",
      "('Pre-owned Condominiums, etc.,,13121,Tokyo,Adachi Ward,Ayase,Ayase,4,4,4,2DK,45,0,,,,,False,,0,1981,0,RC,House,Office,,,,Commercial Zone,80,500,2nd quarter 2017,2017,2,Done,,',)\n",
      "('Residential Land(Land and Building),Residential Area,13107,Tokyo,Sumida Ward,Honjo,Honjoazumabashi,7,7,7,,65,0,,,Semi-rectangular Shaped,6.2,False,170,0,1981,0,S,\"House, Warehouse\",House,West,Ward Road,6,Neighborhood Commercial Zone,80,300,3rd quarter 2016,2016,3,,,',)\n"
     ]
    }
   ],
   "source": [
    "# Verificar se os dados foram carregados corretamente\n",
    "with engine.connect() as conn:\n",
    "    for _, (_, table_name) in arquivos_xlsx.items():\n",
    "        result = conn.execute(text(f\"SELECT * FROM {table_name} LIMIT 5\")).fetchall()\n",
    "        print(f\"Dados da {table_name}:\")\n",
    "        for row in result:\n",
    "            print(row)"
   ]
  }
 ],
 "metadata": {
  "kernelspec": {
   "display_name": "forecasting_env",
   "language": "python",
   "name": "python3"
  },
  "language_info": {
   "codemirror_mode": {
    "name": "ipython",
    "version": 3
   },
   "file_extension": ".py",
   "mimetype": "text/x-python",
   "name": "python",
   "nbconvert_exporter": "python",
   "pygments_lexer": "ipython3",
   "version": "3.12.4"
  }
 },
 "nbformat": 4,
 "nbformat_minor": 2
}
