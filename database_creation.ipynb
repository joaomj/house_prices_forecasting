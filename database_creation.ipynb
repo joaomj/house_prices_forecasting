{
 "cells": [
  {
   "cell_type": "markdown",
   "metadata": {},
   "source": [
    "# **Criando o Banco de Dados**"
   ]
  },
  {
   "cell_type": "markdown",
   "metadata": {},
   "source": [
    "Notebook com os comandos necessários para criar um banco SQL no SQLite e carregar os dados dos arquivos fornecidos nele.\n",
    "\n",
    "**Arquivos fornecidos:**\n",
    "- *train_houses.xlsx*\n",
    "- *test_houses.xlsx*"
   ]
  },
  {
   "cell_type": "markdown",
   "metadata": {},
   "source": [
    "## Imports"
   ]
  },
  {
   "cell_type": "code",
   "execution_count": 4,
   "metadata": {},
   "outputs": [],
   "source": [
    "import pandas as pd\n",
    "import sqlite3"
   ]
  },
  {
   "cell_type": "markdown",
   "metadata": {},
   "source": [
    "## Carregando dados brutos"
   ]
  },
  {
   "cell_type": "code",
   "execution_count": 9,
   "metadata": {},
   "outputs": [],
   "source": [
    "# Arquivos XLSX\n",
    "train_file = 'data/train_houses.xlsx'\n",
    "test_file = 'data/test_houses.xlsx'\n",
    "\n",
    "# Carregar os dados dos arquivos XLSX em DataFrames\n",
    "df_train = pd.read_excel(train_file, header=None)\n",
    "df_test = pd.read_excel(test_file, header=None)"
   ]
  },
  {
   "cell_type": "markdown",
   "metadata": {},
   "source": [
    "## Conectando ao banco SQL"
   ]
  },
  {
   "cell_type": "code",
   "execution_count": 10,
   "metadata": {},
   "outputs": [],
   "source": [
    "# Conectar ao banco de dados SQLite (ou criar se não existir)\n",
    "conn = sqlite3.connect('data/house_prices.db')"
   ]
  },
  {
   "cell_type": "markdown",
   "metadata": {},
   "source": [
    "## Carregando dados no banco SQL"
   ]
  },
  {
   "cell_type": "code",
   "execution_count": 13,
   "metadata": {},
   "outputs": [],
   "source": [
    "def process_and_save(df, table_name):\n",
    "    # Obter os nomes das colunas\n",
    "    column_names = get_column_names(df)\n",
    "    \n",
    "    # Separar os dados e definir os nomes das colunas\n",
    "    data = df[1:]  # Ignorar a primeira linha que contém os nomes das colunas\n",
    "    data = data[0].str.split(',', expand=True)  # Separar os valores da linha\n",
    "    \n",
    "    # Ajustar o número de colunas se necessário\n",
    "    if len(data.columns) != len(column_names):\n",
    "        print(f\"Warning: Number of columns in data ({len(data.columns)}) does not match the number of column names ({len(column_names)}).\")\n",
    "        min_length = min(len(data.columns), len(column_names)) # Define o tamanho do dataset = número de colunas\n",
    "        data = data.iloc[:, :min_length]  # Truncar ou preencher com NaN se necessário\n",
    "        column_names = column_names[:min_length]  # Ajustar os nomes das colunas\n",
    "    \n",
    "    data.columns = column_names  # Definir os nomes das colunas\n",
    "    \n",
    "    # Salvar no banco de dados\n",
    "    data.to_sql(table_name, conn, if_exists='replace', index=False)"
   ]
  },
  {
   "cell_type": "code",
   "execution_count": 14,
   "metadata": {},
   "outputs": [
    {
     "name": "stdout",
     "output_type": "stream",
     "text": [
      "Warning: Number of columns in data (42) does not match the number of column names (37).\n",
      "Warning: Number of columns in data (41) does not match the number of column names (37).\n"
     ]
    }
   ],
   "source": [
    "# Processar e salvar os DataFrames\n",
    "process_and_save(df_train, 'train')\n",
    "process_and_save(df_test, 'test')"
   ]
  },
  {
   "cell_type": "code",
   "execution_count": 15,
   "metadata": {},
   "outputs": [
    {
     "name": "stdout",
     "output_type": "stream",
     "text": [
      "Dados carregados com sucesso no banco de dados SQLite.\n"
     ]
    }
   ],
   "source": [
    "# Fechar a conexão com o banco de dados\n",
    "conn.close()\n",
    "\n",
    "print(\"Dados carregados com sucesso no banco de dados SQLite.\")"
   ]
  }
 ],
 "metadata": {
  "kernelspec": {
   "display_name": "forecasting_env",
   "language": "python",
   "name": "python3"
  },
  "language_info": {
   "codemirror_mode": {
    "name": "ipython",
    "version": 3
   },
   "file_extension": ".py",
   "mimetype": "text/x-python",
   "name": "python",
   "nbconvert_exporter": "python",
   "pygments_lexer": "ipython3",
   "version": "3.12.4"
  }
 },
 "nbformat": 4,
 "nbformat_minor": 2
}
