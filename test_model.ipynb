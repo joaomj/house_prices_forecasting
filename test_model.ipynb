{
 "cells": [
  {
   "cell_type": "markdown",
   "metadata": {},
   "source": [
    "# Testando o modelo\n",
    "\n",
    "Notebook para testar o modelo escolhido no dataset de teste."
   ]
  },
  {
   "cell_type": "markdown",
   "metadata": {},
   "source": [
    "## Bibliotecas"
   ]
  },
  {
   "cell_type": "code",
   "execution_count": 8,
   "metadata": {},
   "outputs": [],
   "source": [
    "import pandas as pd\n",
    "import matplotlib.pyplot as plt\n",
    "import seaborn as sns\n",
    "import sqlite3\n",
    "import numpy as np\n",
    "\n",
    "from sklearn.linear_model import LinearRegression\n",
    "from sklearn.compose import ColumnTransformer\n",
    "from sklearn.pipeline import Pipeline\n",
    "from sklearn.preprocessing import StandardScaler, FunctionTransformer\n",
    "from category_encoders import BinaryEncoder, CountEncoder\n",
    "from sklearn.impute import SimpleImputer\n",
    "from sklearn.linear_model import LinearRegression\n",
    "from sklearn.metrics import mean_squared_error, mean_absolute_percentage_error, r2_score\n",
    "\n",
    "import xgboost as xgb\n",
    "\n",
    "import pickle"
   ]
  },
  {
   "cell_type": "markdown",
   "metadata": {},
   "source": [
    "## Carregando dataset de teste"
   ]
  },
  {
   "cell_type": "code",
   "execution_count": 4,
   "metadata": {},
   "outputs": [
    {
     "data": {
      "text/html": [
       "<div>\n",
       "<style scoped>\n",
       "    .dataframe tbody tr th:only-of-type {\n",
       "        vertical-align: middle;\n",
       "    }\n",
       "\n",
       "    .dataframe tbody tr th {\n",
       "        vertical-align: top;\n",
       "    }\n",
       "\n",
       "    .dataframe thead th {\n",
       "        text-align: right;\n",
       "    }\n",
       "</style>\n",
       "<table border=\"1\" class=\"dataframe\">\n",
       "  <thead>\n",
       "    <tr style=\"text-align: right;\">\n",
       "      <th></th>\n",
       "      <th>Type</th>\n",
       "      <th>Region</th>\n",
       "      <th>MunicipalityCode</th>\n",
       "      <th>Prefecture</th>\n",
       "      <th>Municipality</th>\n",
       "      <th>DistrictName</th>\n",
       "      <th>NearestStation</th>\n",
       "      <th>TimeToNearestStation</th>\n",
       "      <th>MinTimeToNearestStation</th>\n",
       "      <th>MaxTimeToNearestStation</th>\n",
       "      <th>...</th>\n",
       "      <th>Breadth</th>\n",
       "      <th>CityPlanning</th>\n",
       "      <th>CoverageRatio</th>\n",
       "      <th>FloorAreaRatio</th>\n",
       "      <th>Period</th>\n",
       "      <th>Year</th>\n",
       "      <th>Quarter</th>\n",
       "      <th>Renovation</th>\n",
       "      <th>Remarks</th>\n",
       "      <th>TradePrice</th>\n",
       "    </tr>\n",
       "  </thead>\n",
       "  <tbody>\n",
       "    <tr>\n",
       "      <th>0</th>\n",
       "      <td>Pre-owned Condominiums etc.</td>\n",
       "      <td></td>\n",
       "      <td>13103</td>\n",
       "      <td>Tokyo</td>\n",
       "      <td>Minato Ward</td>\n",
       "      <td>Toranomon</td>\n",
       "      <td>Kamiyacho</td>\n",
       "      <td>4</td>\n",
       "      <td>4</td>\n",
       "      <td>4</td>\n",
       "      <td>...</td>\n",
       "      <td></td>\n",
       "      <td>Commercial Zone</td>\n",
       "      <td>80</td>\n",
       "      <td>500</td>\n",
       "      <td>3rd quarter 2016</td>\n",
       "      <td>2016</td>\n",
       "      <td>3</td>\n",
       "      <td>Not yet</td>\n",
       "      <td></td>\n",
       "      <td></td>\n",
       "    </tr>\n",
       "    <tr>\n",
       "      <th>1</th>\n",
       "      <td>Pre-owned Condominiums etc.</td>\n",
       "      <td></td>\n",
       "      <td>13110</td>\n",
       "      <td>Tokyo</td>\n",
       "      <td>Meguro Ward</td>\n",
       "      <td>Higashiyama</td>\n",
       "      <td>Ikejiriohashi</td>\n",
       "      <td>7</td>\n",
       "      <td>7</td>\n",
       "      <td>7</td>\n",
       "      <td>...</td>\n",
       "      <td></td>\n",
       "      <td>Category I Residential Zone</td>\n",
       "      <td>60</td>\n",
       "      <td>300</td>\n",
       "      <td>3rd quarter 2012</td>\n",
       "      <td>2012</td>\n",
       "      <td>3</td>\n",
       "      <td></td>\n",
       "      <td></td>\n",
       "      <td></td>\n",
       "    </tr>\n",
       "    <tr>\n",
       "      <th>2</th>\n",
       "      <td>Pre-owned Condominiums etc.</td>\n",
       "      <td></td>\n",
       "      <td>13112</td>\n",
       "      <td>Tokyo</td>\n",
       "      <td>Setagaya Ward</td>\n",
       "      <td>Kitakarasuyama</td>\n",
       "      <td>Chitosekarasuyama</td>\n",
       "      <td>25</td>\n",
       "      <td>25</td>\n",
       "      <td>25</td>\n",
       "      <td>...</td>\n",
       "      <td></td>\n",
       "      <td>Category I Exclusively Low-story Residential Zone</td>\n",
       "      <td>50</td>\n",
       "      <td>100</td>\n",
       "      <td>4th quarter 2015</td>\n",
       "      <td>2015</td>\n",
       "      <td>4</td>\n",
       "      <td>Done</td>\n",
       "      <td></td>\n",
       "      <td></td>\n",
       "    </tr>\n",
       "    <tr>\n",
       "      <th>3</th>\n",
       "      <td>Pre-owned Condominiums etc.</td>\n",
       "      <td></td>\n",
       "      <td>13121</td>\n",
       "      <td>Tokyo</td>\n",
       "      <td>Adachi Ward</td>\n",
       "      <td>Ayase</td>\n",
       "      <td>Ayase</td>\n",
       "      <td>4</td>\n",
       "      <td>4</td>\n",
       "      <td>4</td>\n",
       "      <td>...</td>\n",
       "      <td></td>\n",
       "      <td>Commercial Zone</td>\n",
       "      <td>80</td>\n",
       "      <td>500</td>\n",
       "      <td>2nd quarter 2017</td>\n",
       "      <td>2017</td>\n",
       "      <td>2</td>\n",
       "      <td>Done</td>\n",
       "      <td></td>\n",
       "      <td></td>\n",
       "    </tr>\n",
       "    <tr>\n",
       "      <th>4</th>\n",
       "      <td>Residential Land(Land and Building)</td>\n",
       "      <td>Residential Area</td>\n",
       "      <td>13107</td>\n",
       "      <td>Tokyo</td>\n",
       "      <td>Sumida Ward</td>\n",
       "      <td>Honjo</td>\n",
       "      <td>Honjoazumabashi</td>\n",
       "      <td>7</td>\n",
       "      <td>7</td>\n",
       "      <td>7</td>\n",
       "      <td>...</td>\n",
       "      <td>6</td>\n",
       "      <td>Neighborhood Commercial Zone</td>\n",
       "      <td>80</td>\n",
       "      <td>300</td>\n",
       "      <td>3rd quarter 2016</td>\n",
       "      <td>2016</td>\n",
       "      <td>3</td>\n",
       "      <td></td>\n",
       "      <td></td>\n",
       "      <td></td>\n",
       "    </tr>\n",
       "  </tbody>\n",
       "</table>\n",
       "<p>5 rows × 37 columns</p>\n",
       "</div>"
      ],
      "text/plain": [
       "                                  Type            Region MunicipalityCode  \\\n",
       "0          Pre-owned Condominiums etc.                              13103   \n",
       "1          Pre-owned Condominiums etc.                              13110   \n",
       "2          Pre-owned Condominiums etc.                              13112   \n",
       "3          Pre-owned Condominiums etc.                              13121   \n",
       "4  Residential Land(Land and Building)  Residential Area            13107   \n",
       "\n",
       "  Prefecture   Municipality    DistrictName     NearestStation  \\\n",
       "0      Tokyo    Minato Ward       Toranomon          Kamiyacho   \n",
       "1      Tokyo    Meguro Ward     Higashiyama      Ikejiriohashi   \n",
       "2      Tokyo  Setagaya Ward  Kitakarasuyama  Chitosekarasuyama   \n",
       "3      Tokyo    Adachi Ward           Ayase              Ayase   \n",
       "4      Tokyo    Sumida Ward           Honjo    Honjoazumabashi   \n",
       "\n",
       "  TimeToNearestStation MinTimeToNearestStation MaxTimeToNearestStation  ...  \\\n",
       "0                    4                       4                       4  ...   \n",
       "1                    7                       7                       7  ...   \n",
       "2                   25                      25                      25  ...   \n",
       "3                    4                       4                       4  ...   \n",
       "4                    7                       7                       7  ...   \n",
       "\n",
       "  Breadth                                       CityPlanning CoverageRatio  \\\n",
       "0                                            Commercial Zone            80   \n",
       "1                                Category I Residential Zone            60   \n",
       "2          Category I Exclusively Low-story Residential Zone            50   \n",
       "3                                            Commercial Zone            80   \n",
       "4       6                       Neighborhood Commercial Zone            80   \n",
       "\n",
       "  FloorAreaRatio            Period  Year Quarter Renovation Remarks TradePrice  \n",
       "0            500  3rd quarter 2016  2016       3    Not yet                     \n",
       "1            300  3rd quarter 2012  2012       3                                \n",
       "2            100  4th quarter 2015  2015       4       Done                     \n",
       "3            500  2nd quarter 2017  2017       2       Done                     \n",
       "4            300  3rd quarter 2016  2016       3                                \n",
       "\n",
       "[5 rows x 37 columns]"
      ]
     },
     "execution_count": 4,
     "metadata": {},
     "output_type": "execute_result"
    }
   ],
   "source": [
    "# Conectar ao banco de dados SQLite\n",
    "conn = sqlite3.connect('data/house_prices.db')\n",
    "\n",
    "# Ler a tabela 'df_test' para um DataFrame\n",
    "df_test = pd.read_sql_query('SELECT * FROM df_test', conn)\n",
    "\n",
    "# Fechar a conexão\n",
    "conn.close()\n",
    "\n",
    "# Exibir as primeiras linhas do DataFrame para verificar\n",
    "df_test.head()"
   ]
  },
  {
   "cell_type": "markdown",
   "metadata": {},
   "source": [
    "## Preparando dataset"
   ]
  },
  {
   "cell_type": "markdown",
   "metadata": {},
   "source": [
    "- Selecionar colunas\n",
    "- Ajustar tipos\n",
    "- Imputar nulos"
   ]
  },
  {
   "cell_type": "markdown",
   "metadata": {},
   "source": [
    "### Selecionando colunas"
   ]
  },
  {
   "cell_type": "code",
   "execution_count": 5,
   "metadata": {},
   "outputs": [
    {
     "data": {
      "text/plain": [
       "Index(['MunicipalityCode', 'MaxTimeToNearestStation', 'Area', 'Frontage',\n",
       "       'BuildingYear', 'Breadth', 'CoverageRatio', 'FloorAreaRatio', 'Year',\n",
       "       'Quarter', 'Type', 'Region', 'NearestStation', 'LandShape', 'Structure',\n",
       "       'Use', 'Direction', 'Classification', 'CityPlanning', 'TradePrice'],\n",
       "      dtype='object')"
      ]
     },
     "execution_count": 5,
     "metadata": {},
     "output_type": "execute_result"
    }
   ],
   "source": [
    "# Selecionando as mesmas colunas do df de treino\n",
    "\n",
    "cols = ['MunicipalityCode', 'MaxTimeToNearestStation', 'Area', 'Frontage',\n",
    "       'BuildingYear', 'Breadth', 'CoverageRatio', 'FloorAreaRatio', 'Year',\n",
    "       'Quarter', 'Type', 'Region', 'NearestStation', 'LandShape', 'Structure',\n",
    "       'Use', 'Direction', 'Classification', 'CityPlanning', 'TradePrice']\n",
    "\n",
    "df_test = df_test[cols]\n",
    "df_test.columns"
   ]
  },
  {
   "cell_type": "markdown",
   "metadata": {},
   "source": [
    "### Ajustando tipos"
   ]
  },
  {
   "cell_type": "code",
   "execution_count": 19,
   "metadata": {},
   "outputs": [
    {
     "name": "stdout",
     "output_type": "stream",
     "text": [
      "MunicipalityCode           float64\n",
      "MaxTimeToNearestStation    float64\n",
      "Area                       float64\n",
      "Frontage                   float64\n",
      "BuildingYear               float64\n",
      "Breadth                    float64\n",
      "CoverageRatio              float64\n",
      "FloorAreaRatio             float64\n",
      "Year                       float64\n",
      "Quarter                    float64\n",
      "Type                        object\n",
      "Region                      object\n",
      "NearestStation              object\n",
      "LandShape                   object\n",
      "Structure                   object\n",
      "Use                         object\n",
      "Direction                   object\n",
      "Classification              object\n",
      "CityPlanning                object\n",
      "TradePrice                 float64\n",
      "dtype: object\n"
     ]
    },
    {
     "name": "stderr",
     "output_type": "stream",
     "text": [
      "/tmp/ipykernel_222892/1755665759.py:2: FutureWarning: Downcasting behavior in `replace` is deprecated and will be removed in a future version. To retain the old behavior, explicitly call `result.infer_objects(copy=False)`. To opt-in to the future behavior, set `pd.set_option('future.no_silent_downcasting', True)`\n",
      "  df_test.replace('', np.nan, inplace=True)\n"
     ]
    }
   ],
   "source": [
    "# Substituir valores vazios por NaN\n",
    "df_test.replace('', np.nan, inplace=True)\n",
    "\n",
    "# Ajustar os tipos das colunas conforme df_train\n",
    "df_test = df_test.astype({\n",
    "    'MunicipalityCode': 'float64',\n",
    "    'MaxTimeToNearestStation': 'float64',\n",
    "    'Area': 'float64',\n",
    "    'Frontage': 'float64',\n",
    "    'BuildingYear': 'float64',\n",
    "    'Breadth': 'float64',\n",
    "    'CoverageRatio': 'float64',\n",
    "    'FloorAreaRatio': 'float64',\n",
    "    'Year': 'float64',\n",
    "    'Quarter': 'float64',\n",
    "    'Type': 'object',\n",
    "    'Region': 'object',\n",
    "    'NearestStation': 'object',\n",
    "    'LandShape': 'object',\n",
    "    'Structure': 'object',\n",
    "    'Use': 'object',\n",
    "    'Direction': 'object',\n",
    "    'Classification': 'object',\n",
    "    'CityPlanning': 'object',\n",
    "    'TradePrice': 'float64'\n",
    "})\n",
    "\n",
    "# Verificar os tipos ajustados\n",
    "print(df_test.dtypes)"
   ]
  },
  {
   "cell_type": "markdown",
   "metadata": {},
   "source": [
    "### Tratando nulos"
   ]
  },
  {
   "cell_type": "code",
   "execution_count": 23,
   "metadata": {},
   "outputs": [
    {
     "name": "stdout",
     "output_type": "stream",
     "text": [
      "                         Null Percentage\n",
      "TradePrice                    100.000000\n",
      "Frontage                       49.895467\n",
      "Breadth                        46.336424\n",
      "Classification                 45.983471\n",
      "Direction                      45.388248\n",
      "LandShape                      45.379639\n",
      "Region                         45.276336\n",
      "Use                            24.180338\n",
      "BuildingYear                   22.789434\n",
      "Structure                      21.777308\n",
      "MaxTimeToNearestStation         2.592420\n",
      "CoverageRatio                   1.552008\n",
      "FloorAreaRatio                  1.552008\n",
      "CityPlanning                    0.991219\n",
      "NearestStation                  0.468554\n",
      "MunicipalityCode                0.000000\n",
      "Quarter                         0.000000\n",
      "Year                            0.000000\n",
      "Area                            0.000000\n",
      "Type                            0.000000\n"
     ]
    }
   ],
   "source": [
    "# Função para calcular porcentagem de valores nulos por coluna\n",
    "def calculate_null_percentages(df):\n",
    "    # Calcular porcentagem de valores nulos\n",
    "    null_percentages = df.isnull().mean() * 100\n",
    "    \n",
    "    # Criar DataFrame para exibir as porcentagens\n",
    "    percentages_df = pd.DataFrame({\n",
    "        'Null Percentage': null_percentages\n",
    "    })\n",
    "    \n",
    "    # Ordenar o DataFrame em ordem decrescente\n",
    "    percentages_df = percentages_df.sort_values(by='Null Percentage', ascending=False)\n",
    "\n",
    "    return percentages_df\n",
    "\n",
    "# Aplicar a função ao DataFrame df_test\n",
    "percentages_df = calculate_null_percentages(df_test)\n",
    "\n",
    "# Exibir o resultado\n",
    "print(percentages_df)"
   ]
  },
  {
   "cell_type": "markdown",
   "metadata": {},
   "source": [
    "Substituindo valores nulos com o método MICE:"
   ]
  },
  {
   "cell_type": "code",
   "execution_count": 27,
   "metadata": {},
   "outputs": [
    {
     "data": {
      "text/plain": [
       "MunicipalityCode           float64\n",
       "MaxTimeToNearestStation    float64\n",
       "Area                       float64\n",
       "Frontage                   float64\n",
       "BuildingYear               float64\n",
       "Breadth                    float64\n",
       "CoverageRatio              float64\n",
       "FloorAreaRatio             float64\n",
       "Year                       float64\n",
       "Quarter                    float64\n",
       "Type                        object\n",
       "Region                      object\n",
       "NearestStation              object\n",
       "LandShape                   object\n",
       "Structure                   object\n",
       "Use                         object\n",
       "Direction                   object\n",
       "Classification              object\n",
       "CityPlanning                object\n",
       "TradePrice                 float64\n",
       "dtype: object"
      ]
     },
     "execution_count": 27,
     "metadata": {},
     "output_type": "execute_result"
    }
   ],
   "source": [
    "df_test.dtypes"
   ]
  },
  {
   "cell_type": "code",
   "execution_count": 28,
   "metadata": {},
   "outputs": [
    {
     "name": "stdout",
     "output_type": "stream",
     "text": [
      "MunicipalityCode           0\n",
      "MaxTimeToNearestStation    0\n",
      "Area                       0\n",
      "Frontage                   0\n",
      "BuildingYear               0\n",
      "Breadth                    0\n",
      "CoverageRatio              0\n",
      "FloorAreaRatio             0\n",
      "Year                       0\n",
      "Quarter                    0\n",
      "Type                       0\n",
      "Region                     0\n",
      "NearestStation             0\n",
      "LandShape                  0\n",
      "Structure                  0\n",
      "Use                        0\n",
      "Direction                  0\n",
      "Classification             0\n",
      "CityPlanning               0\n",
      "dtype: int64\n"
     ]
    }
   ],
   "source": [
    "from fancyimpute import IterativeImputer\n",
    "from sklearn.impute import SimpleImputer\n",
    "\n",
    "# Excluir a coluna 'TradePrice' do DataFrame porque ela não será imputada\n",
    "df1 = df_test.drop(columns=['TradePrice'])\n",
    "\n",
    "# Identificar colunas numéricas e categóricas\n",
    "numeric_columns = df1.select_dtypes(include=['number']).columns.tolist()\n",
    "categorical_columns = df1.select_dtypes(include=['object', 'category']).columns.tolist()\n",
    "\n",
    "# Separar colunas numéricas e categóricas\n",
    "df_numeric = df1[numeric_columns]\n",
    "df_categorical = df1[categorical_columns]\n",
    "\n",
    "# Imputar valores numéricos usando MICE\n",
    "mice_imputer = IterativeImputer()\n",
    "df_numeric_imputed = pd.DataFrame(mice_imputer.fit_transform(df_numeric), columns=numeric_columns)\n",
    "\n",
    "# Imputar valores categóricos usando imputação pela moda (valor mais frequente)\n",
    "mode_imputer = SimpleImputer(strategy='most_frequent')\n",
    "df_categorical_imputed = pd.DataFrame(mode_imputer.fit_transform(df_categorical), columns=categorical_columns)\n",
    "\n",
    "# Substituir as colunas originais no DataFrame com as colunas imputadas\n",
    "df1[numeric_columns] = df_numeric_imputed\n",
    "df1[categorical_columns] = df_categorical_imputed\n",
    "\n",
    "# Verificar se a imputação foi bem-sucedida\n",
    "print(df1.isnull().sum())"
   ]
  },
  {
   "cell_type": "markdown",
   "metadata": {},
   "source": [
    "## Carregando modelo"
   ]
  },
  {
   "cell_type": "code",
   "execution_count": 6,
   "metadata": {},
   "outputs": [],
   "source": [
    "# Carregar o pipeline completo de um arquivo pickle\n",
    "with open('models/pipeline_xgb.pkl', 'rb') as file:\n",
    "    loaded_pipeline_xgb = pickle.load(file)\n"
   ]
  },
  {
   "cell_type": "markdown",
   "metadata": {},
   "source": [
    "df_test não tem valores na coluna TradePrice, por isso não faz sentido transformá-la em log aqui.\n",
    "\n",
    "**MAS É MUITO IMPORTANTE COMPARAR AS PREVISÕES DO MODELO, DADAS EM LOG, COM OS VALORES REAIS TRANSFORMADOS EM LOG**"
   ]
  },
  {
   "cell_type": "code",
   "execution_count": null,
   "metadata": {},
   "outputs": [],
   "source": [
    "# Aplicar transformação log na coluna TradePrice e excluir a coluna original\n",
    "# df_test['TradePrice_log'] = np.log1p(df_test['TradePrice'])\n",
    "# df_test = df_test.drop(columns=['TradePrice'])"
   ]
  },
  {
   "cell_type": "markdown",
   "metadata": {},
   "source": [
    "## Fazendo previsões"
   ]
  },
  {
   "cell_type": "code",
   "execution_count": 29,
   "metadata": {},
   "outputs": [
    {
     "name": "stdout",
     "output_type": "stream",
     "text": [
      "[17.160608 16.31718  17.493427 16.71166  17.301353 17.560663 18.114243\n",
      " 19.136343 17.489992 17.10629 ]\n"
     ]
    }
   ],
   "source": [
    "# Fazer previsões usando o pipeline carregado\n",
    "predictions = loaded_pipeline_xgb.predict(df_test)\n",
    "\n",
    "# Exibir as primeiras previsões para verificar\n",
    "print(predictions[:10])"
   ]
  },
  {
   "cell_type": "markdown",
   "metadata": {},
   "source": [
    "## Gravando previsões no dataset de teste"
   ]
  },
  {
   "cell_type": "code",
   "execution_count": 31,
   "metadata": {},
   "outputs": [
    {
     "name": "stdout",
     "output_type": "stream",
     "text": [
      "   TradePrices_log\n",
      "0        17.160608\n",
      "1        16.317181\n",
      "2        17.493427\n",
      "3        16.711660\n",
      "4        17.301353\n"
     ]
    }
   ],
   "source": [
    "# Adicionar previsões ao DataFrame\n",
    "df_test['TradePrices_log'] = predictions\n",
    "\n",
    "# Verificar se a coluna foi adicionada corretamente\n",
    "print(df_test[['TradePrices_log']].head())"
   ]
  },
  {
   "cell_type": "code",
   "execution_count": 32,
   "metadata": {},
   "outputs": [],
   "source": [
    "# salvar dataset de teste\n",
    "df_test.to_csv('data/df_test_final.csv', index=False)"
   ]
  }
 ],
 "metadata": {
  "kernelspec": {
   "display_name": "forecasting_env",
   "language": "python",
   "name": "python3"
  },
  "language_info": {
   "codemirror_mode": {
    "name": "ipython",
    "version": 3
   },
   "file_extension": ".py",
   "mimetype": "text/x-python",
   "name": "python",
   "nbconvert_exporter": "python",
   "pygments_lexer": "ipython3",
   "version": "3.12.4"
  }
 },
 "nbformat": 4,
 "nbformat_minor": 2
}
